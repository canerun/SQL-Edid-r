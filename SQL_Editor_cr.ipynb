{
  "nbformat": 4,
  "nbformat_minor": 0,
  "metadata": {
    "colab": {
      "provenance": []
    },
    "kernelspec": {
      "name": "python3",
      "display_name": "Python 3"
    },
    "language_info": {
      "name": "python"
    }
  },
  "cells": [
    {
      "cell_type": "code",
      "execution_count": null,
      "metadata": {
        "colab": {
          "base_uri": "https://localhost:8080/"
        },
        "id": "ORyjSQPB01Gw",
        "outputId": "7b5f117e-f1a8-42c5-e9e1-574b5d543ce2"
      },
      "outputs": [
        {
          "output_type": "stream",
          "name": "stdout",
          "text": [
            "Looking in indexes: https://pypi.org/simple, https://us-python.pkg.dev/colab-wheels/public/simple/\n",
            "Collecting boto3\n",
            "  Downloading boto3-1.26.22-py3-none-any.whl (132 kB)\n",
            "\u001b[K     |████████████████████████████████| 132 kB 5.3 MB/s \n",
            "\u001b[?25hCollecting botocore<1.30.0,>=1.29.22\n",
            "  Downloading botocore-1.29.22-py3-none-any.whl (10.2 MB)\n",
            "\u001b[K     |████████████████████████████████| 10.2 MB 41.7 MB/s \n",
            "\u001b[?25hCollecting jmespath<2.0.0,>=0.7.1\n",
            "  Downloading jmespath-1.0.1-py3-none-any.whl (20 kB)\n",
            "Collecting s3transfer<0.7.0,>=0.6.0\n",
            "  Downloading s3transfer-0.6.0-py3-none-any.whl (79 kB)\n",
            "\u001b[K     |████████████████████████████████| 79 kB 8.9 MB/s \n",
            "\u001b[?25hCollecting urllib3<1.27,>=1.25.4\n",
            "  Downloading urllib3-1.26.13-py2.py3-none-any.whl (140 kB)\n",
            "\u001b[K     |████████████████████████████████| 140 kB 53.5 MB/s \n",
            "\u001b[?25hRequirement already satisfied: python-dateutil<3.0.0,>=2.1 in /usr/local/lib/python3.8/dist-packages (from botocore<1.30.0,>=1.29.22->boto3) (2.8.2)\n",
            "Requirement already satisfied: six>=1.5 in /usr/local/lib/python3.8/dist-packages (from python-dateutil<3.0.0,>=2.1->botocore<1.30.0,>=1.29.22->boto3) (1.15.0)\n",
            "Installing collected packages: urllib3, jmespath, botocore, s3transfer, boto3\n",
            "  Attempting uninstall: urllib3\n",
            "    Found existing installation: urllib3 1.24.3\n",
            "    Uninstalling urllib3-1.24.3:\n",
            "      Successfully uninstalled urllib3-1.24.3\n",
            "\u001b[31mERROR: pip's dependency resolver does not currently take into account all the packages that are installed. This behaviour is the source of the following dependency conflicts.\n",
            "requests 2.23.0 requires urllib3!=1.25.0,!=1.25.1,<1.26,>=1.21.1, but you have urllib3 1.26.13 which is incompatible.\u001b[0m\n",
            "Successfully installed boto3-1.26.22 botocore-1.29.22 jmespath-1.0.1 s3transfer-0.6.0 urllib3-1.26.13\n"
          ]
        }
      ],
      "source": [
        "pip install boto3"
      ]
    },
    {
      "cell_type": "code",
      "source": [
        "pip install pyspark"
      ],
      "metadata": {
        "colab": {
          "base_uri": "https://localhost:8080/"
        },
        "id": "J0mMdiVU3Fch",
        "outputId": "dabff2cb-3fca-48da-8d24-54b7924e91f7"
      },
      "execution_count": null,
      "outputs": [
        {
          "output_type": "stream",
          "name": "stdout",
          "text": [
            "Looking in indexes: https://pypi.org/simple, https://us-python.pkg.dev/colab-wheels/public/simple/\n",
            "Collecting pyspark\n",
            "  Downloading pyspark-3.3.1.tar.gz (281.4 MB)\n",
            "\u001b[K     |████████████████████████████████| 281.4 MB 25 kB/s \n",
            "\u001b[?25hCollecting py4j==0.10.9.5\n",
            "  Downloading py4j-0.10.9.5-py2.py3-none-any.whl (199 kB)\n",
            "\u001b[K     |████████████████████████████████| 199 kB 43.3 MB/s \n",
            "\u001b[?25hBuilding wheels for collected packages: pyspark\n",
            "  Building wheel for pyspark (setup.py) ... \u001b[?25l\u001b[?25hdone\n",
            "  Created wheel for pyspark: filename=pyspark-3.3.1-py2.py3-none-any.whl size=281845512 sha256=f3fa1741a48fa8ff0ec4a71e8f720bd12a24c699df12cd7d8a958c36f0cc1f45\n",
            "  Stored in directory: /root/.cache/pip/wheels/43/dc/11/ec201cd671da62fa9c5cc77078235e40722170ceba231d7598\n",
            "Successfully built pyspark\n",
            "Installing collected packages: py4j, pyspark\n",
            "Successfully installed py4j-0.10.9.5 pyspark-3.3.1\n"
          ]
        }
      ]
    },
    {
      "cell_type": "code",
      "source": [
        "from pyspark import SparkContext\n",
        "from pyspark import SparkConf"
      ],
      "metadata": {
        "id": "-rp354sc3GVq"
      },
      "execution_count": null,
      "outputs": []
    },
    {
      "cell_type": "code",
      "source": [
        "import boto3\n",
        "import os\n",
        "import pandas as pd\n",
        "import secrets"
      ],
      "metadata": {
        "id": "uqEgWRGM3V7y"
      },
      "execution_count": null,
      "outputs": []
    },
    {
      "cell_type": "code",
      "source": [
        "!apt-get install openjdk-8-jdk-headless -qq > /dev/null\n",
        "!wget -q http://archive.apache.org/dist/spark/spark-3.1.1/spark-3.1.1-bin-hadoop3.2.tgz\n",
        "!tar xf spark-3.1.1-bin-hadoop3.2.tgz\n",
        "!pip install -q findspark"
      ],
      "metadata": {
        "id": "h3RN29pb3YOL"
      },
      "execution_count": null,
      "outputs": []
    },
    {
      "cell_type": "code",
      "source": [
        "!ls"
      ],
      "metadata": {
        "colab": {
          "base_uri": "https://localhost:8080/"
        },
        "id": "l4p4dbnN4Jf1",
        "outputId": "f3ea65c6-ed85-4e69-e7f2-1aa080221f5c"
      },
      "execution_count": null,
      "outputs": [
        {
          "output_type": "stream",
          "name": "stdout",
          "text": [
            "data  sample_data  spark-3.1.1-bin-hadoop3.2  spark-3.1.1-bin-hadoop3.2.tgz\n"
          ]
        }
      ]
    },
    {
      "cell_type": "code",
      "source": [
        "import findspark\n",
        "findspark.init()\n",
        "from pyspark.sql import SparkSession\n",
        "spark = SparkSession.builder.master(\"local[*]\").getOrCreate()\n",
        "spark.conf.set(\"spark.sql.repl.eagerEval.enabled\", True) \n",
        "spark"
      ],
      "metadata": {
        "colab": {
          "base_uri": "https://localhost:8080/",
          "height": 219
        },
        "id": "G8OxaVRN4NhK",
        "outputId": "e799e942-d2f0-4680-8392-b3ff18b2d304"
      },
      "execution_count": null,
      "outputs": [
        {
          "output_type": "execute_result",
          "data": {
            "text/plain": [
              "<pyspark.sql.session.SparkSession at 0x7f2528a87520>"
            ],
            "text/html": [
              "\n",
              "            <div>\n",
              "                <p><b>SparkSession - in-memory</b></p>\n",
              "                \n",
              "        <div>\n",
              "            <p><b>SparkContext</b></p>\n",
              "\n",
              "            <p><a href=\"http://1c4f117aab24:4040\">Spark UI</a></p>\n",
              "\n",
              "            <dl>\n",
              "              <dt>Version</dt>\n",
              "                <dd><code>v3.3.1</code></dd>\n",
              "              <dt>Master</dt>\n",
              "                <dd><code>local[*]</code></dd>\n",
              "              <dt>AppName</dt>\n",
              "                <dd><code>pyspark-shell</code></dd>\n",
              "            </dl>\n",
              "        </div>\n",
              "        \n",
              "            </div>\n",
              "        "
            ]
          },
          "metadata": {},
          "execution_count": 8
        }
      ]
    },
    {
      "cell_type": "code",
      "source": [
        "data1= pd.read_csv('data/product_202211221632.csv', index_col=0)"
      ],
      "metadata": {
        "id": "19dJKU0n4eL9"
      },
      "execution_count": null,
      "outputs": []
    },
    {
      "cell_type": "code",
      "source": [
        "data1"
      ],
      "metadata": {
        "colab": {
          "base_uri": "https://localhost:8080/",
          "height": 172
        },
        "id": "mwjtHaA5VpmP",
        "outputId": "cdc8c9e2-2e77-48c8-a1fe-b4e8010579be"
      },
      "execution_count": null,
      "outputs": [
        {
          "output_type": "execute_result",
          "data": {
            "text/plain": [
              "            price skin_color\n",
              "product_id                  \n",
              "1               5        Red\n",
              "2              10       Blue\n",
              "3              15        NaN"
            ],
            "text/html": [
              "\n",
              "  <div id=\"df-35b77e0f-77c8-482c-a3de-4a2c9afcb0fb\">\n",
              "    <div class=\"colab-df-container\">\n",
              "      <div>\n",
              "<style scoped>\n",
              "    .dataframe tbody tr th:only-of-type {\n",
              "        vertical-align: middle;\n",
              "    }\n",
              "\n",
              "    .dataframe tbody tr th {\n",
              "        vertical-align: top;\n",
              "    }\n",
              "\n",
              "    .dataframe thead th {\n",
              "        text-align: right;\n",
              "    }\n",
              "</style>\n",
              "<table border=\"1\" class=\"dataframe\">\n",
              "  <thead>\n",
              "    <tr style=\"text-align: right;\">\n",
              "      <th></th>\n",
              "      <th>price</th>\n",
              "      <th>skin_color</th>\n",
              "    </tr>\n",
              "    <tr>\n",
              "      <th>product_id</th>\n",
              "      <th></th>\n",
              "      <th></th>\n",
              "    </tr>\n",
              "  </thead>\n",
              "  <tbody>\n",
              "    <tr>\n",
              "      <th>1</th>\n",
              "      <td>5</td>\n",
              "      <td>Red</td>\n",
              "    </tr>\n",
              "    <tr>\n",
              "      <th>2</th>\n",
              "      <td>10</td>\n",
              "      <td>Blue</td>\n",
              "    </tr>\n",
              "    <tr>\n",
              "      <th>3</th>\n",
              "      <td>15</td>\n",
              "      <td>NaN</td>\n",
              "    </tr>\n",
              "  </tbody>\n",
              "</table>\n",
              "</div>\n",
              "      <button class=\"colab-df-convert\" onclick=\"convertToInteractive('df-35b77e0f-77c8-482c-a3de-4a2c9afcb0fb')\"\n",
              "              title=\"Convert this dataframe to an interactive table.\"\n",
              "              style=\"display:none;\">\n",
              "        \n",
              "  <svg xmlns=\"http://www.w3.org/2000/svg\" height=\"24px\"viewBox=\"0 0 24 24\"\n",
              "       width=\"24px\">\n",
              "    <path d=\"M0 0h24v24H0V0z\" fill=\"none\"/>\n",
              "    <path d=\"M18.56 5.44l.94 2.06.94-2.06 2.06-.94-2.06-.94-.94-2.06-.94 2.06-2.06.94zm-11 1L8.5 8.5l.94-2.06 2.06-.94-2.06-.94L8.5 2.5l-.94 2.06-2.06.94zm10 10l.94 2.06.94-2.06 2.06-.94-2.06-.94-.94-2.06-.94 2.06-2.06.94z\"/><path d=\"M17.41 7.96l-1.37-1.37c-.4-.4-.92-.59-1.43-.59-.52 0-1.04.2-1.43.59L10.3 9.45l-7.72 7.72c-.78.78-.78 2.05 0 2.83L4 21.41c.39.39.9.59 1.41.59.51 0 1.02-.2 1.41-.59l7.78-7.78 2.81-2.81c.8-.78.8-2.07 0-2.86zM5.41 20L4 18.59l7.72-7.72 1.47 1.35L5.41 20z\"/>\n",
              "  </svg>\n",
              "      </button>\n",
              "      \n",
              "  <style>\n",
              "    .colab-df-container {\n",
              "      display:flex;\n",
              "      flex-wrap:wrap;\n",
              "      gap: 12px;\n",
              "    }\n",
              "\n",
              "    .colab-df-convert {\n",
              "      background-color: #E8F0FE;\n",
              "      border: none;\n",
              "      border-radius: 50%;\n",
              "      cursor: pointer;\n",
              "      display: none;\n",
              "      fill: #1967D2;\n",
              "      height: 32px;\n",
              "      padding: 0 0 0 0;\n",
              "      width: 32px;\n",
              "    }\n",
              "\n",
              "    .colab-df-convert:hover {\n",
              "      background-color: #E2EBFA;\n",
              "      box-shadow: 0px 1px 2px rgba(60, 64, 67, 0.3), 0px 1px 3px 1px rgba(60, 64, 67, 0.15);\n",
              "      fill: #174EA6;\n",
              "    }\n",
              "\n",
              "    [theme=dark] .colab-df-convert {\n",
              "      background-color: #3B4455;\n",
              "      fill: #D2E3FC;\n",
              "    }\n",
              "\n",
              "    [theme=dark] .colab-df-convert:hover {\n",
              "      background-color: #434B5C;\n",
              "      box-shadow: 0px 1px 3px 1px rgba(0, 0, 0, 0.15);\n",
              "      filter: drop-shadow(0px 1px 2px rgba(0, 0, 0, 0.3));\n",
              "      fill: #FFFFFF;\n",
              "    }\n",
              "  </style>\n",
              "\n",
              "      <script>\n",
              "        const buttonEl =\n",
              "          document.querySelector('#df-35b77e0f-77c8-482c-a3de-4a2c9afcb0fb button.colab-df-convert');\n",
              "        buttonEl.style.display =\n",
              "          google.colab.kernel.accessAllowed ? 'block' : 'none';\n",
              "\n",
              "        async function convertToInteractive(key) {\n",
              "          const element = document.querySelector('#df-35b77e0f-77c8-482c-a3de-4a2c9afcb0fb');\n",
              "          const dataTable =\n",
              "            await google.colab.kernel.invokeFunction('convertToInteractive',\n",
              "                                                     [key], {});\n",
              "          if (!dataTable) return;\n",
              "\n",
              "          const docLinkHtml = 'Like what you see? Visit the ' +\n",
              "            '<a target=\"_blank\" href=https://colab.research.google.com/notebooks/data_table.ipynb>data table notebook</a>'\n",
              "            + ' to learn more about interactive tables.';\n",
              "          element.innerHTML = '';\n",
              "          dataTable['output_type'] = 'display_data';\n",
              "          await google.colab.output.renderOutput(dataTable, element);\n",
              "          const docLink = document.createElement('div');\n",
              "          docLink.innerHTML = docLinkHtml;\n",
              "          element.appendChild(docLink);\n",
              "        }\n",
              "      </script>\n",
              "    </div>\n",
              "  </div>\n",
              "  "
            ]
          },
          "metadata": {},
          "execution_count": 13
        }
      ]
    },
    {
      "cell_type": "code",
      "source": [
        "data2= pd.read_csv('data/event__202211221632.csv', index_col=0)"
      ],
      "metadata": {
        "id": "8FZfzJyxD4ku"
      },
      "execution_count": null,
      "outputs": []
    },
    {
      "cell_type": "code",
      "source": [
        "data2"
      ],
      "metadata": {
        "colab": {
          "base_uri": "https://localhost:8080/",
          "height": 672
        },
        "id": "RkPA_I5MD-Kl",
        "outputId": "7d2d31e6-bf09-4373-ec15-595adae7c019"
      },
      "execution_count": null,
      "outputs": [
        {
          "output_type": "execute_result",
          "data": {
            "text/plain": [
              "              device_id            event_name                     event_time\n",
              "user_id                                                                     \n",
              "User_000058  Device_058     Puzzle_Finish_004  2022-11-01 00:01:00.000 +0300\n",
              "User_000033  Device_033  Bonus_Activation_001  2022-11-01 00:04:00.000 +0300\n",
              "User_000078  Device_078     Puzzle_Finish_005  2022-11-01 00:05:00.000 +0300\n",
              "User_000074  Device_074      Leaderboard_Open  2022-11-01 00:10:00.000 +0300\n",
              "User_000032  Device_032            Level_Lose  2022-11-01 00:12:00.000 +0300\n",
              "...                 ...                   ...                            ...\n",
              "User_000081  Device_081                  Ping  2022-11-12 18:24:00.000 +0300\n",
              "User_000011  Device_011     Puzzle_Finish_001  2022-11-16 13:24:00.000 +0300\n",
              "User_000063  Device_063     Puzzle_Finish_005  2022-11-01 22:43:00.000 +0300\n",
              "User_000054  Device_054     Puzzle_Finish_011  2022-11-11 01:07:00.000 +0300\n",
              "User_000076  Device_076  Bonus_Activation_001  2022-11-04 12:05:00.000 +0300\n",
              "\n",
              "[22720 rows x 3 columns]"
            ],
            "text/html": [
              "\n",
              "  <div id=\"df-3ab44c93-3ff4-4ac5-b1c6-09a85f67e050\">\n",
              "    <div class=\"colab-df-container\">\n",
              "      <div>\n",
              "<style scoped>\n",
              "    .dataframe tbody tr th:only-of-type {\n",
              "        vertical-align: middle;\n",
              "    }\n",
              "\n",
              "    .dataframe tbody tr th {\n",
              "        vertical-align: top;\n",
              "    }\n",
              "\n",
              "    .dataframe thead th {\n",
              "        text-align: right;\n",
              "    }\n",
              "</style>\n",
              "<table border=\"1\" class=\"dataframe\">\n",
              "  <thead>\n",
              "    <tr style=\"text-align: right;\">\n",
              "      <th></th>\n",
              "      <th>device_id</th>\n",
              "      <th>event_name</th>\n",
              "      <th>event_time</th>\n",
              "    </tr>\n",
              "    <tr>\n",
              "      <th>user_id</th>\n",
              "      <th></th>\n",
              "      <th></th>\n",
              "      <th></th>\n",
              "    </tr>\n",
              "  </thead>\n",
              "  <tbody>\n",
              "    <tr>\n",
              "      <th>User_000058</th>\n",
              "      <td>Device_058</td>\n",
              "      <td>Puzzle_Finish_004</td>\n",
              "      <td>2022-11-01 00:01:00.000 +0300</td>\n",
              "    </tr>\n",
              "    <tr>\n",
              "      <th>User_000033</th>\n",
              "      <td>Device_033</td>\n",
              "      <td>Bonus_Activation_001</td>\n",
              "      <td>2022-11-01 00:04:00.000 +0300</td>\n",
              "    </tr>\n",
              "    <tr>\n",
              "      <th>User_000078</th>\n",
              "      <td>Device_078</td>\n",
              "      <td>Puzzle_Finish_005</td>\n",
              "      <td>2022-11-01 00:05:00.000 +0300</td>\n",
              "    </tr>\n",
              "    <tr>\n",
              "      <th>User_000074</th>\n",
              "      <td>Device_074</td>\n",
              "      <td>Leaderboard_Open</td>\n",
              "      <td>2022-11-01 00:10:00.000 +0300</td>\n",
              "    </tr>\n",
              "    <tr>\n",
              "      <th>User_000032</th>\n",
              "      <td>Device_032</td>\n",
              "      <td>Level_Lose</td>\n",
              "      <td>2022-11-01 00:12:00.000 +0300</td>\n",
              "    </tr>\n",
              "    <tr>\n",
              "      <th>...</th>\n",
              "      <td>...</td>\n",
              "      <td>...</td>\n",
              "      <td>...</td>\n",
              "    </tr>\n",
              "    <tr>\n",
              "      <th>User_000081</th>\n",
              "      <td>Device_081</td>\n",
              "      <td>Ping</td>\n",
              "      <td>2022-11-12 18:24:00.000 +0300</td>\n",
              "    </tr>\n",
              "    <tr>\n",
              "      <th>User_000011</th>\n",
              "      <td>Device_011</td>\n",
              "      <td>Puzzle_Finish_001</td>\n",
              "      <td>2022-11-16 13:24:00.000 +0300</td>\n",
              "    </tr>\n",
              "    <tr>\n",
              "      <th>User_000063</th>\n",
              "      <td>Device_063</td>\n",
              "      <td>Puzzle_Finish_005</td>\n",
              "      <td>2022-11-01 22:43:00.000 +0300</td>\n",
              "    </tr>\n",
              "    <tr>\n",
              "      <th>User_000054</th>\n",
              "      <td>Device_054</td>\n",
              "      <td>Puzzle_Finish_011</td>\n",
              "      <td>2022-11-11 01:07:00.000 +0300</td>\n",
              "    </tr>\n",
              "    <tr>\n",
              "      <th>User_000076</th>\n",
              "      <td>Device_076</td>\n",
              "      <td>Bonus_Activation_001</td>\n",
              "      <td>2022-11-04 12:05:00.000 +0300</td>\n",
              "    </tr>\n",
              "  </tbody>\n",
              "</table>\n",
              "<p>22720 rows × 3 columns</p>\n",
              "</div>\n",
              "      <button class=\"colab-df-convert\" onclick=\"convertToInteractive('df-3ab44c93-3ff4-4ac5-b1c6-09a85f67e050')\"\n",
              "              title=\"Convert this dataframe to an interactive table.\"\n",
              "              style=\"display:none;\">\n",
              "        \n",
              "  <svg xmlns=\"http://www.w3.org/2000/svg\" height=\"24px\"viewBox=\"0 0 24 24\"\n",
              "       width=\"24px\">\n",
              "    <path d=\"M0 0h24v24H0V0z\" fill=\"none\"/>\n",
              "    <path d=\"M18.56 5.44l.94 2.06.94-2.06 2.06-.94-2.06-.94-.94-2.06-.94 2.06-2.06.94zm-11 1L8.5 8.5l.94-2.06 2.06-.94-2.06-.94L8.5 2.5l-.94 2.06-2.06.94zm10 10l.94 2.06.94-2.06 2.06-.94-2.06-.94-.94-2.06-.94 2.06-2.06.94z\"/><path d=\"M17.41 7.96l-1.37-1.37c-.4-.4-.92-.59-1.43-.59-.52 0-1.04.2-1.43.59L10.3 9.45l-7.72 7.72c-.78.78-.78 2.05 0 2.83L4 21.41c.39.39.9.59 1.41.59.51 0 1.02-.2 1.41-.59l7.78-7.78 2.81-2.81c.8-.78.8-2.07 0-2.86zM5.41 20L4 18.59l7.72-7.72 1.47 1.35L5.41 20z\"/>\n",
              "  </svg>\n",
              "      </button>\n",
              "      \n",
              "  <style>\n",
              "    .colab-df-container {\n",
              "      display:flex;\n",
              "      flex-wrap:wrap;\n",
              "      gap: 12px;\n",
              "    }\n",
              "\n",
              "    .colab-df-convert {\n",
              "      background-color: #E8F0FE;\n",
              "      border: none;\n",
              "      border-radius: 50%;\n",
              "      cursor: pointer;\n",
              "      display: none;\n",
              "      fill: #1967D2;\n",
              "      height: 32px;\n",
              "      padding: 0 0 0 0;\n",
              "      width: 32px;\n",
              "    }\n",
              "\n",
              "    .colab-df-convert:hover {\n",
              "      background-color: #E2EBFA;\n",
              "      box-shadow: 0px 1px 2px rgba(60, 64, 67, 0.3), 0px 1px 3px 1px rgba(60, 64, 67, 0.15);\n",
              "      fill: #174EA6;\n",
              "    }\n",
              "\n",
              "    [theme=dark] .colab-df-convert {\n",
              "      background-color: #3B4455;\n",
              "      fill: #D2E3FC;\n",
              "    }\n",
              "\n",
              "    [theme=dark] .colab-df-convert:hover {\n",
              "      background-color: #434B5C;\n",
              "      box-shadow: 0px 1px 3px 1px rgba(0, 0, 0, 0.15);\n",
              "      filter: drop-shadow(0px 1px 2px rgba(0, 0, 0, 0.3));\n",
              "      fill: #FFFFFF;\n",
              "    }\n",
              "  </style>\n",
              "\n",
              "      <script>\n",
              "        const buttonEl =\n",
              "          document.querySelector('#df-3ab44c93-3ff4-4ac5-b1c6-09a85f67e050 button.colab-df-convert');\n",
              "        buttonEl.style.display =\n",
              "          google.colab.kernel.accessAllowed ? 'block' : 'none';\n",
              "\n",
              "        async function convertToInteractive(key) {\n",
              "          const element = document.querySelector('#df-3ab44c93-3ff4-4ac5-b1c6-09a85f67e050');\n",
              "          const dataTable =\n",
              "            await google.colab.kernel.invokeFunction('convertToInteractive',\n",
              "                                                     [key], {});\n",
              "          if (!dataTable) return;\n",
              "\n",
              "          const docLinkHtml = 'Like what you see? Visit the ' +\n",
              "            '<a target=\"_blank\" href=https://colab.research.google.com/notebooks/data_table.ipynb>data table notebook</a>'\n",
              "            + ' to learn more about interactive tables.';\n",
              "          element.innerHTML = '';\n",
              "          dataTable['output_type'] = 'display_data';\n",
              "          await google.colab.output.renderOutput(dataTable, element);\n",
              "          const docLink = document.createElement('div');\n",
              "          docLink.innerHTML = docLinkHtml;\n",
              "          element.appendChild(docLink);\n",
              "        }\n",
              "      </script>\n",
              "    </div>\n",
              "  </div>\n",
              "  "
            ]
          },
          "metadata": {},
          "execution_count": 15
        },
        {
          "output_type": "stream",
          "name": "stdout",
          "text": [
            "Warning: total number of rows (22720) exceeds max_rows (20000). Limiting to first (20000) rows.\n"
          ]
        }
      ]
    },
    {
      "cell_type": "code",
      "source": [
        "data3= pd.read_csv('data/age_segment_202211221632.csv', index_col=0)"
      ],
      "metadata": {
        "id": "xs8tzEfDEzz1"
      },
      "execution_count": null,
      "outputs": []
    },
    {
      "cell_type": "code",
      "source": [
        "data3"
      ],
      "metadata": {
        "colab": {
          "base_uri": "https://localhost:8080/",
          "height": 215
        },
        "id": "vQ_ffx3-E0DV",
        "outputId": "e3e99000-8a33-4028-d16a-bd6a6970805a"
      },
      "execution_count": null,
      "outputs": [
        {
          "output_type": "execute_result",
          "data": {
            "text/plain": [
              "    age_min  age_max\n",
              "id                  \n",
              "1         0       18\n",
              "2        19       24\n",
              "3        25       30\n",
              "4        31       40\n",
              "5        41       55"
            ],
            "text/html": [
              "\n",
              "  <div id=\"df-b1304111-18e2-48d0-ab70-75d5a7d5f45b\">\n",
              "    <div class=\"colab-df-container\">\n",
              "      <div>\n",
              "<style scoped>\n",
              "    .dataframe tbody tr th:only-of-type {\n",
              "        vertical-align: middle;\n",
              "    }\n",
              "\n",
              "    .dataframe tbody tr th {\n",
              "        vertical-align: top;\n",
              "    }\n",
              "\n",
              "    .dataframe thead th {\n",
              "        text-align: right;\n",
              "    }\n",
              "</style>\n",
              "<table border=\"1\" class=\"dataframe\">\n",
              "  <thead>\n",
              "    <tr style=\"text-align: right;\">\n",
              "      <th></th>\n",
              "      <th>age_min</th>\n",
              "      <th>age_max</th>\n",
              "    </tr>\n",
              "    <tr>\n",
              "      <th>id</th>\n",
              "      <th></th>\n",
              "      <th></th>\n",
              "    </tr>\n",
              "  </thead>\n",
              "  <tbody>\n",
              "    <tr>\n",
              "      <th>1</th>\n",
              "      <td>0</td>\n",
              "      <td>18</td>\n",
              "    </tr>\n",
              "    <tr>\n",
              "      <th>2</th>\n",
              "      <td>19</td>\n",
              "      <td>24</td>\n",
              "    </tr>\n",
              "    <tr>\n",
              "      <th>3</th>\n",
              "      <td>25</td>\n",
              "      <td>30</td>\n",
              "    </tr>\n",
              "    <tr>\n",
              "      <th>4</th>\n",
              "      <td>31</td>\n",
              "      <td>40</td>\n",
              "    </tr>\n",
              "    <tr>\n",
              "      <th>5</th>\n",
              "      <td>41</td>\n",
              "      <td>55</td>\n",
              "    </tr>\n",
              "  </tbody>\n",
              "</table>\n",
              "</div>\n",
              "      <button class=\"colab-df-convert\" onclick=\"convertToInteractive('df-b1304111-18e2-48d0-ab70-75d5a7d5f45b')\"\n",
              "              title=\"Convert this dataframe to an interactive table.\"\n",
              "              style=\"display:none;\">\n",
              "        \n",
              "  <svg xmlns=\"http://www.w3.org/2000/svg\" height=\"24px\"viewBox=\"0 0 24 24\"\n",
              "       width=\"24px\">\n",
              "    <path d=\"M0 0h24v24H0V0z\" fill=\"none\"/>\n",
              "    <path d=\"M18.56 5.44l.94 2.06.94-2.06 2.06-.94-2.06-.94-.94-2.06-.94 2.06-2.06.94zm-11 1L8.5 8.5l.94-2.06 2.06-.94-2.06-.94L8.5 2.5l-.94 2.06-2.06.94zm10 10l.94 2.06.94-2.06 2.06-.94-2.06-.94-.94-2.06-.94 2.06-2.06.94z\"/><path d=\"M17.41 7.96l-1.37-1.37c-.4-.4-.92-.59-1.43-.59-.52 0-1.04.2-1.43.59L10.3 9.45l-7.72 7.72c-.78.78-.78 2.05 0 2.83L4 21.41c.39.39.9.59 1.41.59.51 0 1.02-.2 1.41-.59l7.78-7.78 2.81-2.81c.8-.78.8-2.07 0-2.86zM5.41 20L4 18.59l7.72-7.72 1.47 1.35L5.41 20z\"/>\n",
              "  </svg>\n",
              "      </button>\n",
              "      \n",
              "  <style>\n",
              "    .colab-df-container {\n",
              "      display:flex;\n",
              "      flex-wrap:wrap;\n",
              "      gap: 12px;\n",
              "    }\n",
              "\n",
              "    .colab-df-convert {\n",
              "      background-color: #E8F0FE;\n",
              "      border: none;\n",
              "      border-radius: 50%;\n",
              "      cursor: pointer;\n",
              "      display: none;\n",
              "      fill: #1967D2;\n",
              "      height: 32px;\n",
              "      padding: 0 0 0 0;\n",
              "      width: 32px;\n",
              "    }\n",
              "\n",
              "    .colab-df-convert:hover {\n",
              "      background-color: #E2EBFA;\n",
              "      box-shadow: 0px 1px 2px rgba(60, 64, 67, 0.3), 0px 1px 3px 1px rgba(60, 64, 67, 0.15);\n",
              "      fill: #174EA6;\n",
              "    }\n",
              "\n",
              "    [theme=dark] .colab-df-convert {\n",
              "      background-color: #3B4455;\n",
              "      fill: #D2E3FC;\n",
              "    }\n",
              "\n",
              "    [theme=dark] .colab-df-convert:hover {\n",
              "      background-color: #434B5C;\n",
              "      box-shadow: 0px 1px 3px 1px rgba(0, 0, 0, 0.15);\n",
              "      filter: drop-shadow(0px 1px 2px rgba(0, 0, 0, 0.3));\n",
              "      fill: #FFFFFF;\n",
              "    }\n",
              "  </style>\n",
              "\n",
              "      <script>\n",
              "        const buttonEl =\n",
              "          document.querySelector('#df-b1304111-18e2-48d0-ab70-75d5a7d5f45b button.colab-df-convert');\n",
              "        buttonEl.style.display =\n",
              "          google.colab.kernel.accessAllowed ? 'block' : 'none';\n",
              "\n",
              "        async function convertToInteractive(key) {\n",
              "          const element = document.querySelector('#df-b1304111-18e2-48d0-ab70-75d5a7d5f45b');\n",
              "          const dataTable =\n",
              "            await google.colab.kernel.invokeFunction('convertToInteractive',\n",
              "                                                     [key], {});\n",
              "          if (!dataTable) return;\n",
              "\n",
              "          const docLinkHtml = 'Like what you see? Visit the ' +\n",
              "            '<a target=\"_blank\" href=https://colab.research.google.com/notebooks/data_table.ipynb>data table notebook</a>'\n",
              "            + ' to learn more about interactive tables.';\n",
              "          element.innerHTML = '';\n",
              "          dataTable['output_type'] = 'display_data';\n",
              "          await google.colab.output.renderOutput(dataTable, element);\n",
              "          const docLink = document.createElement('div');\n",
              "          docLink.innerHTML = docLinkHtml;\n",
              "          element.appendChild(docLink);\n",
              "        }\n",
              "      </script>\n",
              "    </div>\n",
              "  </div>\n",
              "  "
            ]
          },
          "metadata": {},
          "execution_count": 17
        }
      ]
    },
    {
      "cell_type": "code",
      "source": [
        "data4= pd.read_csv('data/account_202211221632.csv', index_col=0)"
      ],
      "metadata": {
        "id": "yY1mcAV6FkJu"
      },
      "execution_count": null,
      "outputs": []
    },
    {
      "cell_type": "code",
      "source": [
        "data4"
      ],
      "metadata": {
        "colab": {
          "base_uri": "https://localhost:8080/",
          "height": 655
        },
        "id": "I9wzpZNzFkVm",
        "outputId": "d6c9db4a-b6db-4572-fab8-fadde2507463"
      },
      "execution_count": null,
      "outputs": [
        {
          "output_type": "execute_result",
          "data": {
            "text/plain": [
              "              device_id  age  gender\n",
              "user_id                             \n",
              "User_000001  Device_001   44  Female\n",
              "User_000002  Device_002   46  Female\n",
              "User_000003  Device_003   24    Male\n",
              "User_000004  Device_004   47  Female\n",
              "User_000005  Device_005   29    Male\n",
              "...                 ...  ...     ...\n",
              "User_000076  Device_076   23  Female\n",
              "User_000077  Device_077   39    Male\n",
              "User_000078  Device_078   41  Female\n",
              "User_000079  Device_079   33    Male\n",
              "User_000080  Device_080   27  Female\n",
              "\n",
              "[80 rows x 3 columns]"
            ],
            "text/html": [
              "\n",
              "  <div id=\"df-4ca5498d-d19b-40dc-91ae-9868e5fa2c33\">\n",
              "    <div class=\"colab-df-container\">\n",
              "      <div>\n",
              "<style scoped>\n",
              "    .dataframe tbody tr th:only-of-type {\n",
              "        vertical-align: middle;\n",
              "    }\n",
              "\n",
              "    .dataframe tbody tr th {\n",
              "        vertical-align: top;\n",
              "    }\n",
              "\n",
              "    .dataframe thead th {\n",
              "        text-align: right;\n",
              "    }\n",
              "</style>\n",
              "<table border=\"1\" class=\"dataframe\">\n",
              "  <thead>\n",
              "    <tr style=\"text-align: right;\">\n",
              "      <th></th>\n",
              "      <th>device_id</th>\n",
              "      <th>age</th>\n",
              "      <th>gender</th>\n",
              "    </tr>\n",
              "    <tr>\n",
              "      <th>user_id</th>\n",
              "      <th></th>\n",
              "      <th></th>\n",
              "      <th></th>\n",
              "    </tr>\n",
              "  </thead>\n",
              "  <tbody>\n",
              "    <tr>\n",
              "      <th>User_000001</th>\n",
              "      <td>Device_001</td>\n",
              "      <td>44</td>\n",
              "      <td>Female</td>\n",
              "    </tr>\n",
              "    <tr>\n",
              "      <th>User_000002</th>\n",
              "      <td>Device_002</td>\n",
              "      <td>46</td>\n",
              "      <td>Female</td>\n",
              "    </tr>\n",
              "    <tr>\n",
              "      <th>User_000003</th>\n",
              "      <td>Device_003</td>\n",
              "      <td>24</td>\n",
              "      <td>Male</td>\n",
              "    </tr>\n",
              "    <tr>\n",
              "      <th>User_000004</th>\n",
              "      <td>Device_004</td>\n",
              "      <td>47</td>\n",
              "      <td>Female</td>\n",
              "    </tr>\n",
              "    <tr>\n",
              "      <th>User_000005</th>\n",
              "      <td>Device_005</td>\n",
              "      <td>29</td>\n",
              "      <td>Male</td>\n",
              "    </tr>\n",
              "    <tr>\n",
              "      <th>...</th>\n",
              "      <td>...</td>\n",
              "      <td>...</td>\n",
              "      <td>...</td>\n",
              "    </tr>\n",
              "    <tr>\n",
              "      <th>User_000076</th>\n",
              "      <td>Device_076</td>\n",
              "      <td>23</td>\n",
              "      <td>Female</td>\n",
              "    </tr>\n",
              "    <tr>\n",
              "      <th>User_000077</th>\n",
              "      <td>Device_077</td>\n",
              "      <td>39</td>\n",
              "      <td>Male</td>\n",
              "    </tr>\n",
              "    <tr>\n",
              "      <th>User_000078</th>\n",
              "      <td>Device_078</td>\n",
              "      <td>41</td>\n",
              "      <td>Female</td>\n",
              "    </tr>\n",
              "    <tr>\n",
              "      <th>User_000079</th>\n",
              "      <td>Device_079</td>\n",
              "      <td>33</td>\n",
              "      <td>Male</td>\n",
              "    </tr>\n",
              "    <tr>\n",
              "      <th>User_000080</th>\n",
              "      <td>Device_080</td>\n",
              "      <td>27</td>\n",
              "      <td>Female</td>\n",
              "    </tr>\n",
              "  </tbody>\n",
              "</table>\n",
              "<p>80 rows × 3 columns</p>\n",
              "</div>\n",
              "      <button class=\"colab-df-convert\" onclick=\"convertToInteractive('df-4ca5498d-d19b-40dc-91ae-9868e5fa2c33')\"\n",
              "              title=\"Convert this dataframe to an interactive table.\"\n",
              "              style=\"display:none;\">\n",
              "        \n",
              "  <svg xmlns=\"http://www.w3.org/2000/svg\" height=\"24px\"viewBox=\"0 0 24 24\"\n",
              "       width=\"24px\">\n",
              "    <path d=\"M0 0h24v24H0V0z\" fill=\"none\"/>\n",
              "    <path d=\"M18.56 5.44l.94 2.06.94-2.06 2.06-.94-2.06-.94-.94-2.06-.94 2.06-2.06.94zm-11 1L8.5 8.5l.94-2.06 2.06-.94-2.06-.94L8.5 2.5l-.94 2.06-2.06.94zm10 10l.94 2.06.94-2.06 2.06-.94-2.06-.94-.94-2.06-.94 2.06-2.06.94z\"/><path d=\"M17.41 7.96l-1.37-1.37c-.4-.4-.92-.59-1.43-.59-.52 0-1.04.2-1.43.59L10.3 9.45l-7.72 7.72c-.78.78-.78 2.05 0 2.83L4 21.41c.39.39.9.59 1.41.59.51 0 1.02-.2 1.41-.59l7.78-7.78 2.81-2.81c.8-.78.8-2.07 0-2.86zM5.41 20L4 18.59l7.72-7.72 1.47 1.35L5.41 20z\"/>\n",
              "  </svg>\n",
              "      </button>\n",
              "      \n",
              "  <style>\n",
              "    .colab-df-container {\n",
              "      display:flex;\n",
              "      flex-wrap:wrap;\n",
              "      gap: 12px;\n",
              "    }\n",
              "\n",
              "    .colab-df-convert {\n",
              "      background-color: #E8F0FE;\n",
              "      border: none;\n",
              "      border-radius: 50%;\n",
              "      cursor: pointer;\n",
              "      display: none;\n",
              "      fill: #1967D2;\n",
              "      height: 32px;\n",
              "      padding: 0 0 0 0;\n",
              "      width: 32px;\n",
              "    }\n",
              "\n",
              "    .colab-df-convert:hover {\n",
              "      background-color: #E2EBFA;\n",
              "      box-shadow: 0px 1px 2px rgba(60, 64, 67, 0.3), 0px 1px 3px 1px rgba(60, 64, 67, 0.15);\n",
              "      fill: #174EA6;\n",
              "    }\n",
              "\n",
              "    [theme=dark] .colab-df-convert {\n",
              "      background-color: #3B4455;\n",
              "      fill: #D2E3FC;\n",
              "    }\n",
              "\n",
              "    [theme=dark] .colab-df-convert:hover {\n",
              "      background-color: #434B5C;\n",
              "      box-shadow: 0px 1px 3px 1px rgba(0, 0, 0, 0.15);\n",
              "      filter: drop-shadow(0px 1px 2px rgba(0, 0, 0, 0.3));\n",
              "      fill: #FFFFFF;\n",
              "    }\n",
              "  </style>\n",
              "\n",
              "      <script>\n",
              "        const buttonEl =\n",
              "          document.querySelector('#df-4ca5498d-d19b-40dc-91ae-9868e5fa2c33 button.colab-df-convert');\n",
              "        buttonEl.style.display =\n",
              "          google.colab.kernel.accessAllowed ? 'block' : 'none';\n",
              "\n",
              "        async function convertToInteractive(key) {\n",
              "          const element = document.querySelector('#df-4ca5498d-d19b-40dc-91ae-9868e5fa2c33');\n",
              "          const dataTable =\n",
              "            await google.colab.kernel.invokeFunction('convertToInteractive',\n",
              "                                                     [key], {});\n",
              "          if (!dataTable) return;\n",
              "\n",
              "          const docLinkHtml = 'Like what you see? Visit the ' +\n",
              "            '<a target=\"_blank\" href=https://colab.research.google.com/notebooks/data_table.ipynb>data table notebook</a>'\n",
              "            + ' to learn more about interactive tables.';\n",
              "          element.innerHTML = '';\n",
              "          dataTable['output_type'] = 'display_data';\n",
              "          await google.colab.output.renderOutput(dataTable, element);\n",
              "          const docLink = document.createElement('div');\n",
              "          docLink.innerHTML = docLinkHtml;\n",
              "          element.appendChild(docLink);\n",
              "        }\n",
              "      </script>\n",
              "    </div>\n",
              "  </div>\n",
              "  "
            ]
          },
          "metadata": {},
          "execution_count": 19
        }
      ]
    },
    {
      "cell_type": "code",
      "source": [
        "from numpy import savetxt"
      ],
      "metadata": {
        "id": "vshzKaWkVqW0"
      },
      "execution_count": null,
      "outputs": []
    },
    {
      "cell_type": "code",
      "source": [
        "data.duplicated()"
      ],
      "metadata": {
        "colab": {
          "base_uri": "https://localhost:8080/"
        },
        "id": "BQWCbTORVuXb",
        "outputId": "8b2728a9-5141-4708-aff3-8c50ec8cca83"
      },
      "execution_count": null,
      "outputs": [
        {
          "output_type": "execute_result",
          "data": {
            "text/plain": [
              "user_id\n",
              "User_000058    False\n",
              "User_000033    False\n",
              "User_000078    False\n",
              "User_000074    False\n",
              "User_000032    False\n",
              "               ...  \n",
              "User_000081    False\n",
              "User_000011    False\n",
              "User_000063    False\n",
              "User_000054    False\n",
              "User_000076    False\n",
              "Length: 22720, dtype: bool"
            ]
          },
          "metadata": {},
          "execution_count": 21
        }
      ]
    },
    {
      "cell_type": "code",
      "source": [
        "account_df=spark.read.csv(\"data/account_202211221632.csv\", header=True, inferSchema=True)\n",
        "account_df.coalesce(1).write.mode (\"overwrite\").format(\"com.databricks.spark.csv\").option(\"header\", \"true\").save(\"filename\")\n",
        "\n",
        "age_df=spark.read.csv(\"data/age_segment_202211221632.csv\", header=True, inferSchema=True)\n",
        "age_df.coalesce(1).write.mode (\"overwrite\").format(\"com.databricks.spark.csv\").option(\"header\", \"true\").save(\"filename\")\n",
        "\n",
        "event_df=spark.read.csv(\"data/event__202211221632.csv\", header=True, inferSchema=True)\n",
        "event_df.coalesce(1).write.mode (\"overwrite\").format(\"com.databricks.spark.csv\").option(\"header\", \"true\").save(\"filename\")\n",
        "\n",
        "product_df=spark.read.csv(\"data/product_202211221632.csv\", header=True, inferSchema=True)\n",
        "product_df.coalesce(1).write.mode (\"overwrite\").format(\"com.databricks.spark.csv\").option(\"header\", \"true\").save(\"filename\")\n"
      ],
      "metadata": {
        "id": "cw1pL_A7Vuws"
      },
      "execution_count": null,
      "outputs": []
    },
    {
      "cell_type": "code",
      "source": [
        "account_df.printSchema()\n",
        "age_df.printSchema()"
      ],
      "metadata": {
        "colab": {
          "base_uri": "https://localhost:8080/"
        },
        "id": "jQaOKuYnV07K",
        "outputId": "b84cc348-c143-4eb3-a801-26001b3741bc"
      },
      "execution_count": null,
      "outputs": [
        {
          "output_type": "stream",
          "name": "stdout",
          "text": [
            "root\n",
            " |-- user_id: string (nullable = true)\n",
            " |-- device_id: string (nullable = true)\n",
            " |-- age: integer (nullable = true)\n",
            " |-- gender: string (nullable = true)\n",
            "\n",
            "root\n",
            " |-- id: integer (nullable = true)\n",
            " |-- age_min: integer (nullable = true)\n",
            " |-- age_max: integer (nullable = true)\n",
            "\n"
          ]
        }
      ]
    },
    {
      "cell_type": "code",
      "source": [
        "account_df.createOrReplaceTempView(\"account\")\n",
        "age_df.createOrReplaceTempView(\"age\")\n",
        "event_df.createOrReplaceTempView(\"event\")\n",
        "product_df.createOrReplaceTempView(\"product\")\n"
      ],
      "metadata": {
        "id": "6HxFrzhGV53K"
      },
      "execution_count": null,
      "outputs": []
    },
    {
      "cell_type": "code",
      "source": [
        "query_data =spark.sql('SELECT ac.user_id, ac.device_id, evt.event_time, ac.age, ac.gender FROM event evt INNER JOIN account ac on evt.user_id=ac.user_id  ')\n",
        "query_data\n",
        "\n",
        "\n"
      ],
      "metadata": {
        "colab": {
          "base_uri": "https://localhost:8080/",
          "height": 529
        },
        "id": "QBE1k_sRV8ny",
        "outputId": "74eb2618-c84a-474c-d2a9-2e03aa807a08"
      },
      "execution_count": null,
      "outputs": [
        {
          "output_type": "execute_result",
          "data": {
            "text/plain": [
              "+-----------+----------+-------------------+---+------+\n",
              "|    user_id| device_id|         event_time|age|gender|\n",
              "+-----------+----------+-------------------+---+------+\n",
              "|User_000058|Device_058|2022-10-31 21:01:00| 27|  Male|\n",
              "|User_000033|Device_033|2022-10-31 21:04:00| 28|  Male|\n",
              "|User_000078|Device_078|2022-10-31 21:05:00| 41|Female|\n",
              "|User_000074|Device_074|2022-10-31 21:10:00| 22|Female|\n",
              "|User_000032|Device_032|2022-10-31 21:12:00| 21|  Male|\n",
              "|User_000015|Device_015|2022-11-02 19:54:00| 32|Female|\n",
              "|User_000035|Device_035|2022-11-06 14:49:00| 45|  Male|\n",
              "|User_000039|Device_039|2022-11-09 08:35:00| 32|Female|\n",
              "|User_000070|Device_070|2022-11-11 14:55:00| 34|  Male|\n",
              "|User_000031|Device_031|2022-11-11 15:51:00| 24|  Male|\n",
              "|User_000019|Device_019|2022-11-11 08:36:00| 21|  Male|\n",
              "|User_000034|Device_034|2022-11-03 16:07:00| 55|  Male|\n",
              "|User_000019|Device_019|2022-11-06 09:36:00| 21|  Male|\n",
              "|User_000038|Device_038|2022-11-07 23:27:00| 45|  Male|\n",
              "|User_000077|Device_077|2022-11-11 08:46:00| 39|  Male|\n",
              "|User_000064|Device_064|2022-11-04 22:38:00| 52|  Male|\n",
              "|User_000059|Device_059|2022-11-09 17:44:00| 32|Female|\n",
              "|User_000043|Device_043|2022-10-31 22:01:00| 22|Female|\n",
              "|User_000055|Device_055|2022-11-05 00:19:00| 43|  Male|\n",
              "|User_000005|Device_005|2022-11-02 02:05:00| 29|  Male|\n",
              "+-----------+----------+-------------------+---+------+\n",
              "only showing top 20 rows"
            ],
            "text/html": [
              "<table border='1'>\n",
              "<tr><th>user_id</th><th>device_id</th><th>event_time</th><th>age</th><th>gender</th></tr>\n",
              "<tr><td>User_000058</td><td>Device_058</td><td>2022-10-31 21:01:00</td><td>27</td><td>Male</td></tr>\n",
              "<tr><td>User_000033</td><td>Device_033</td><td>2022-10-31 21:04:00</td><td>28</td><td>Male</td></tr>\n",
              "<tr><td>User_000078</td><td>Device_078</td><td>2022-10-31 21:05:00</td><td>41</td><td>Female</td></tr>\n",
              "<tr><td>User_000074</td><td>Device_074</td><td>2022-10-31 21:10:00</td><td>22</td><td>Female</td></tr>\n",
              "<tr><td>User_000032</td><td>Device_032</td><td>2022-10-31 21:12:00</td><td>21</td><td>Male</td></tr>\n",
              "<tr><td>User_000015</td><td>Device_015</td><td>2022-11-02 19:54:00</td><td>32</td><td>Female</td></tr>\n",
              "<tr><td>User_000035</td><td>Device_035</td><td>2022-11-06 14:49:00</td><td>45</td><td>Male</td></tr>\n",
              "<tr><td>User_000039</td><td>Device_039</td><td>2022-11-09 08:35:00</td><td>32</td><td>Female</td></tr>\n",
              "<tr><td>User_000070</td><td>Device_070</td><td>2022-11-11 14:55:00</td><td>34</td><td>Male</td></tr>\n",
              "<tr><td>User_000031</td><td>Device_031</td><td>2022-11-11 15:51:00</td><td>24</td><td>Male</td></tr>\n",
              "<tr><td>User_000019</td><td>Device_019</td><td>2022-11-11 08:36:00</td><td>21</td><td>Male</td></tr>\n",
              "<tr><td>User_000034</td><td>Device_034</td><td>2022-11-03 16:07:00</td><td>55</td><td>Male</td></tr>\n",
              "<tr><td>User_000019</td><td>Device_019</td><td>2022-11-06 09:36:00</td><td>21</td><td>Male</td></tr>\n",
              "<tr><td>User_000038</td><td>Device_038</td><td>2022-11-07 23:27:00</td><td>45</td><td>Male</td></tr>\n",
              "<tr><td>User_000077</td><td>Device_077</td><td>2022-11-11 08:46:00</td><td>39</td><td>Male</td></tr>\n",
              "<tr><td>User_000064</td><td>Device_064</td><td>2022-11-04 22:38:00</td><td>52</td><td>Male</td></tr>\n",
              "<tr><td>User_000059</td><td>Device_059</td><td>2022-11-09 17:44:00</td><td>32</td><td>Female</td></tr>\n",
              "<tr><td>User_000043</td><td>Device_043</td><td>2022-10-31 22:01:00</td><td>22</td><td>Female</td></tr>\n",
              "<tr><td>User_000055</td><td>Device_055</td><td>2022-11-05 00:19:00</td><td>43</td><td>Male</td></tr>\n",
              "<tr><td>User_000005</td><td>Device_005</td><td>2022-11-02 02:05:00</td><td>29</td><td>Male</td></tr>\n",
              "</table>\n",
              "only showing top 20 rows\n"
            ]
          },
          "metadata": {},
          "execution_count": 37
        }
      ]
    },
    {
      "cell_type": "code",
      "source": [
        "query_data.write.csv(\"rettention_graf2\")"
      ],
      "metadata": {
        "id": "jZWQSYZvPH7n"
      },
      "execution_count": null,
      "outputs": []
    },
    {
      "cell_type": "code",
      "source": [
        "query_data =spark.sql('SELECT * FROM event WHERE device_id=\"Device_058\" ' )\n",
        "query_data"
      ],
      "metadata": {
        "colab": {
          "base_uri": "https://localhost:8080/",
          "height": 529
        },
        "id": "VV5ObXZRWV6E",
        "outputId": "41807fe2-3c3c-46b4-e9f9-d78a93679269"
      },
      "execution_count": null,
      "outputs": [
        {
          "output_type": "execute_result",
          "data": {
            "text/plain": [
              "+-----------+----------+--------------------+-------------------+\n",
              "|    user_id| device_id|          event_name|         event_time|\n",
              "+-----------+----------+--------------------+-------------------+\n",
              "|User_000058|Device_058|   Puzzle_Finish_004|2022-10-31 21:01:00|\n",
              "|User_000058|Device_058|    App_Purchase_003|2022-11-02 09:52:00|\n",
              "|User_000058|Device_058|Bonus_Activation_003|2022-11-11 15:30:00|\n",
              "|User_000058|Device_058|   Puzzle_Finish_002|2022-11-03 14:00:00|\n",
              "|User_000058|Device_058|   Puzzle_Finish_003|2022-11-09 02:30:00|\n",
              "|User_000058|Device_058|   Puzzle_Finish_002|2022-11-10 02:04:00|\n",
              "|User_000058|Device_058|   Puzzle_Finish_001|2022-11-10 02:50:00|\n",
              "|User_000058|Device_058|Bonus_Activation_003|2022-11-08 16:33:00|\n",
              "|User_000058|Device_058|   Puzzle_Finish_002|2022-11-10 00:29:00|\n",
              "|User_000058|Device_058|   Puzzle_Finish_001|2022-11-01 20:12:00|\n",
              "|User_000058|Device_058|   Puzzle_Finish_009|2022-11-01 20:16:00|\n",
              "|User_000058|Device_058|Bonus_Activation_002|2022-11-02 00:17:00|\n",
              "|User_000058|Device_058|          Level_Draw|2022-11-02 00:51:00|\n",
              "|User_000058|Device_058|         Market_Page|2022-11-02 01:53:00|\n",
              "|User_000058|Device_058|   Puzzle_Finish_008|2022-11-09 17:01:00|\n",
              "|User_000058|Device_058|          Level_Lose|2022-11-06 10:42:00|\n",
              "|User_000058|Device_058|   Puzzle_Finish_006|2022-11-08 11:23:00|\n",
              "|User_000058|Device_058|   Puzzle_Finish_004|2022-11-10 23:15:00|\n",
              "|User_000058|Device_058|   Puzzle_Finish_002|2022-11-01 06:24:00|\n",
              "|User_000058|Device_058|   Puzzle_Finish_003|2022-11-07 05:14:00|\n",
              "+-----------+----------+--------------------+-------------------+\n",
              "only showing top 20 rows"
            ],
            "text/html": [
              "<table border='1'>\n",
              "<tr><th>user_id</th><th>device_id</th><th>event_name</th><th>event_time</th></tr>\n",
              "<tr><td>User_000058</td><td>Device_058</td><td>Puzzle_Finish_004</td><td>2022-10-31 21:01:00</td></tr>\n",
              "<tr><td>User_000058</td><td>Device_058</td><td>App_Purchase_003</td><td>2022-11-02 09:52:00</td></tr>\n",
              "<tr><td>User_000058</td><td>Device_058</td><td>Bonus_Activation_003</td><td>2022-11-11 15:30:00</td></tr>\n",
              "<tr><td>User_000058</td><td>Device_058</td><td>Puzzle_Finish_002</td><td>2022-11-03 14:00:00</td></tr>\n",
              "<tr><td>User_000058</td><td>Device_058</td><td>Puzzle_Finish_003</td><td>2022-11-09 02:30:00</td></tr>\n",
              "<tr><td>User_000058</td><td>Device_058</td><td>Puzzle_Finish_002</td><td>2022-11-10 02:04:00</td></tr>\n",
              "<tr><td>User_000058</td><td>Device_058</td><td>Puzzle_Finish_001</td><td>2022-11-10 02:50:00</td></tr>\n",
              "<tr><td>User_000058</td><td>Device_058</td><td>Bonus_Activation_003</td><td>2022-11-08 16:33:00</td></tr>\n",
              "<tr><td>User_000058</td><td>Device_058</td><td>Puzzle_Finish_002</td><td>2022-11-10 00:29:00</td></tr>\n",
              "<tr><td>User_000058</td><td>Device_058</td><td>Puzzle_Finish_001</td><td>2022-11-01 20:12:00</td></tr>\n",
              "<tr><td>User_000058</td><td>Device_058</td><td>Puzzle_Finish_009</td><td>2022-11-01 20:16:00</td></tr>\n",
              "<tr><td>User_000058</td><td>Device_058</td><td>Bonus_Activation_002</td><td>2022-11-02 00:17:00</td></tr>\n",
              "<tr><td>User_000058</td><td>Device_058</td><td>Level_Draw</td><td>2022-11-02 00:51:00</td></tr>\n",
              "<tr><td>User_000058</td><td>Device_058</td><td>Market_Page</td><td>2022-11-02 01:53:00</td></tr>\n",
              "<tr><td>User_000058</td><td>Device_058</td><td>Puzzle_Finish_008</td><td>2022-11-09 17:01:00</td></tr>\n",
              "<tr><td>User_000058</td><td>Device_058</td><td>Level_Lose</td><td>2022-11-06 10:42:00</td></tr>\n",
              "<tr><td>User_000058</td><td>Device_058</td><td>Puzzle_Finish_006</td><td>2022-11-08 11:23:00</td></tr>\n",
              "<tr><td>User_000058</td><td>Device_058</td><td>Puzzle_Finish_004</td><td>2022-11-10 23:15:00</td></tr>\n",
              "<tr><td>User_000058</td><td>Device_058</td><td>Puzzle_Finish_002</td><td>2022-11-01 06:24:00</td></tr>\n",
              "<tr><td>User_000058</td><td>Device_058</td><td>Puzzle_Finish_003</td><td>2022-11-07 05:14:00</td></tr>\n",
              "</table>\n",
              "only showing top 20 rows\n"
            ]
          },
          "metadata": {},
          "execution_count": 55
        }
      ]
    },
    {
      "cell_type": "code",
      "source": [
        "queryy_data =spark.sql('SELECT age, Count(device_id) FROM account GROUP BY account.age ORDER BY age' )\n",
        "queryy_data\n"
      ],
      "metadata": {
        "colab": {
          "base_uri": "https://localhost:8080/",
          "height": 529
        },
        "id": "s0vExUIpVEna",
        "outputId": "6bc9bd29-6597-4214-d38d-c338b076a410"
      },
      "execution_count": null,
      "outputs": [
        {
          "output_type": "execute_result",
          "data": {
            "text/plain": [
              "+---+----------------+\n",
              "|age|count(device_id)|\n",
              "+---+----------------+\n",
              "| 18|               2|\n",
              "| 20|               1|\n",
              "| 21|               4|\n",
              "| 22|               5|\n",
              "| 23|               2|\n",
              "| 24|               2|\n",
              "| 25|               1|\n",
              "| 27|               3|\n",
              "| 28|               4|\n",
              "| 29|               2|\n",
              "| 30|               1|\n",
              "| 31|               2|\n",
              "| 32|               3|\n",
              "| 33|               4|\n",
              "| 34|               1|\n",
              "| 35|               3|\n",
              "| 36|               2|\n",
              "| 39|               1|\n",
              "| 41|               4|\n",
              "| 42|               1|\n",
              "+---+----------------+\n",
              "only showing top 20 rows"
            ],
            "text/html": [
              "<table border='1'>\n",
              "<tr><th>age</th><th>count(device_id)</th></tr>\n",
              "<tr><td>18</td><td>2</td></tr>\n",
              "<tr><td>20</td><td>1</td></tr>\n",
              "<tr><td>21</td><td>4</td></tr>\n",
              "<tr><td>22</td><td>5</td></tr>\n",
              "<tr><td>23</td><td>2</td></tr>\n",
              "<tr><td>24</td><td>2</td></tr>\n",
              "<tr><td>25</td><td>1</td></tr>\n",
              "<tr><td>27</td><td>3</td></tr>\n",
              "<tr><td>28</td><td>4</td></tr>\n",
              "<tr><td>29</td><td>2</td></tr>\n",
              "<tr><td>30</td><td>1</td></tr>\n",
              "<tr><td>31</td><td>2</td></tr>\n",
              "<tr><td>32</td><td>3</td></tr>\n",
              "<tr><td>33</td><td>4</td></tr>\n",
              "<tr><td>34</td><td>1</td></tr>\n",
              "<tr><td>35</td><td>3</td></tr>\n",
              "<tr><td>36</td><td>2</td></tr>\n",
              "<tr><td>39</td><td>1</td></tr>\n",
              "<tr><td>41</td><td>4</td></tr>\n",
              "<tr><td>42</td><td>1</td></tr>\n",
              "</table>\n",
              "only showing top 20 rows\n"
            ]
          },
          "metadata": {},
          "execution_count": 80
        }
      ]
    },
    {
      "cell_type": "code",
      "source": [],
      "metadata": {
        "id": "3GP7L_DyfVwx"
      },
      "execution_count": null,
      "outputs": []
    }
  ]
}